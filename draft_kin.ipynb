{
 "cells": [
  {
   "cell_type": "code",
   "execution_count": 66,
   "metadata": {},
   "outputs": [],
   "source": [
    "# Import libraries\n",
    "import face_recognition\n",
    "import os, sys\n",
    "import random"
   ]
  },
  {
   "cell_type": "code",
   "execution_count": 37,
   "metadata": {},
   "outputs": [],
   "source": [
    "# Load test images\n",
    "image_mother_yes = face_recognition.load_image_file('/Users/b.saintot/face_recog/data/KinFaceW-I/images/mother-dau/md_001_1.jpg')\n",
    "image_mother_no = face_recognition.load_image_file('/Users/b.saintot/face_recog/data/KinFaceW-I/images/mother-dau/md_002_1.jpg')\n",
    "image_daughter = face_recognition.load_image_file('/Users/b.saintot/face_recog/data/KinFaceW-I/images/mother-dau/md_001_2.jpg')"
   ]
  },
  {
   "cell_type": "code",
   "execution_count": 38,
   "metadata": {},
   "outputs": [],
   "source": [
    "# Encode test images\n",
    "image_mother_yes_enc = face_recognition.face_encodings(image_mother_yes)[0]\n",
    "image_mother_no_enc = face_recognition.face_encodings(image_mother_no)[0]\n",
    "image_daughter_enc = face_recognition.face_encodings(image_daughter)[0]"
   ]
  },
  {
   "cell_type": "code",
   "execution_count": 39,
   "metadata": {},
   "outputs": [
    {
     "name": "stdout",
     "output_type": "stream",
     "text": [
      "[-0.06344     0.10973139  0.09104356 -0.10439586 -0.11043637  0.03218262\n",
      "  0.03081489 -0.07110742  0.21078944 -0.07751957  0.12299612 -0.04365354\n",
      " -0.33245656  0.08304714 -0.08101717  0.15094215 -0.13416649 -0.20483406\n",
      " -0.14348298 -0.04208963  0.01889339  0.07757336 -0.02728844  0.03630553\n",
      " -0.19520672 -0.19167297 -0.01150398 -0.08945187  0.02858901 -0.13727175\n",
      "  0.05239938  0.1068163  -0.14646825 -0.01366575  0.07130948  0.07943098\n",
      " -0.06284305 -0.16442312  0.17431933 -0.00685554 -0.22343867 -0.08430123\n",
      "  0.03212051  0.27176657  0.18365173 -0.0042396   0.01607954 -0.10608511\n",
      "  0.03997741 -0.33336017  0.00919017  0.13959008  0.03770019  0.06499775\n",
      " -0.00582915 -0.27714846  0.06100465  0.10689172 -0.22132522  0.09815109\n",
      "  0.15186259 -0.15973404 -0.07667281 -0.0219701   0.14697747  0.02358247\n",
      " -0.14876983 -0.17819999  0.24208884 -0.15255159  0.03726785  0.13516521\n",
      " -0.09897598 -0.18225849 -0.0878783  -0.02991734  0.4212777   0.10620768\n",
      " -0.13963513 -0.01479589 -0.13383394  0.02344124 -0.03088243  0.06052086\n",
      "  0.00809372 -0.1562621  -0.135682    0.03546663  0.23579754 -0.08193995\n",
      "  0.02604664  0.21054688  0.02660987 -0.1630877  -0.04179136  0.05393369\n",
      " -0.16534826  0.10322678 -0.05842835 -0.01101979  0.03948987 -0.07320338\n",
      " -0.0116175   0.16347224 -0.13264653  0.20560873 -0.01222458 -0.03254226\n",
      "  0.06662689 -0.08745354 -0.09200853 -0.08607705  0.25134364 -0.21065375\n",
      "  0.13363017  0.19406857  0.07429592  0.09499465  0.03229312  0.13233556\n",
      "  0.11249974  0.00420408 -0.264173   -0.08582221  0.0091771  -0.09773425\n",
      " -0.05395545  0.01293586]\n"
     ]
    }
   ],
   "source": [
    "# Print first encoded test image\n",
    "print(image_mother_yes_enc)"
   ]
  },
  {
   "cell_type": "code",
   "execution_count": 40,
   "metadata": {},
   "outputs": [
    {
     "data": {
      "text/plain": [
       "array([0.76462729, 0.77908897])"
      ]
     },
     "execution_count": 40,
     "metadata": {},
     "output_type": "execute_result"
    }
   ],
   "source": [
    "# Test face distance, lower score is better\n",
    "face_recognition.face_distance([image_mother_yes_enc, image_mother_no_enc], image_daughter_enc)"
   ]
  },
  {
   "cell_type": "code",
   "execution_count": 41,
   "metadata": {},
   "outputs": [],
   "source": [
    "# Define data directory\n",
    "data_dir = '/Users/b.saintot/face_recog/data/KinFaceW-I/images/mother-dau/'"
   ]
  },
  {
   "cell_type": "code",
   "execution_count": 42,
   "metadata": {},
   "outputs": [],
   "source": [
    "mothers = []\n",
    "\n",
    "for i in range(1, 128):\n",
    "    if i in range(1, 10):\n",
    "        i = '00' + str(i)\n",
    "    elif i in range (10, 100):\n",
    "        i = '0' + str(i)\n",
    "    mother = face_recognition.load_image_file(data_dir+'md_{}_1.jpg'.format(i))\n",
    "    mother_enc = face_recognition.face_encodings(mother) #[0]\n",
    "    mothers.append(mother_enc)"
   ]
  },
  {
   "cell_type": "code",
   "execution_count": 43,
   "metadata": {},
   "outputs": [],
   "source": [
    "daughters = []\n",
    "\n",
    "for i in range(1, 128):\n",
    "    if i in range(1, 10):\n",
    "        i = '00' + str(i)\n",
    "    elif i in range (10, 100):\n",
    "        i = '0' + str(i)\n",
    "    daughter = face_recognition.load_image_file(data_dir+'md_{}_2.jpg'.format(i))\n",
    "    daughter_enc = face_recognition.face_encodings(daughter) #[0]\n",
    "    daughters.append(daughter_enc)"
   ]
  },
  {
   "cell_type": "code",
   "execution_count": 44,
   "metadata": {},
   "outputs": [
    {
     "name": "stdout",
     "output_type": "stream",
     "text": [
      "127\n",
      "127\n"
     ]
    }
   ],
   "source": [
    "print(len(mothers))\n",
    "print(len(daughters))"
   ]
  },
  {
   "cell_type": "code",
   "execution_count": 45,
   "metadata": {},
   "outputs": [],
   "source": [
    "import pandas as pd\n",
    "import numpy as np"
   ]
  },
  {
   "cell_type": "code",
   "execution_count": 46,
   "metadata": {},
   "outputs": [
    {
     "data": {
      "text/html": [
       "<div>\n",
       "<style scoped>\n",
       "    .dataframe tbody tr th:only-of-type {\n",
       "        vertical-align: middle;\n",
       "    }\n",
       "\n",
       "    .dataframe tbody tr th {\n",
       "        vertical-align: top;\n",
       "    }\n",
       "\n",
       "    .dataframe thead th {\n",
       "        text-align: right;\n",
       "    }\n",
       "</style>\n",
       "<table border=\"1\" class=\"dataframe\">\n",
       "  <thead>\n",
       "    <tr style=\"text-align: right;\">\n",
       "      <th></th>\n",
       "      <th>mothers</th>\n",
       "      <th>daughters</th>\n",
       "    </tr>\n",
       "  </thead>\n",
       "  <tbody>\n",
       "    <tr>\n",
       "      <th>0</th>\n",
       "      <td>[[-0.0634399950504303, 0.10973139107227325, 0....</td>\n",
       "      <td>[[-0.1728745400905609, 0.07101988792419434, 0....</td>\n",
       "    </tr>\n",
       "    <tr>\n",
       "      <th>1</th>\n",
       "      <td>[[-0.15506553649902344, 0.093840092420578, 0.1...</td>\n",
       "      <td>[[-0.1468706727027893, 0.10332313179969788, 0....</td>\n",
       "    </tr>\n",
       "    <tr>\n",
       "      <th>2</th>\n",
       "      <td>[[-0.14343547821044922, 0.1219245195388794, 0....</td>\n",
       "      <td>[[-0.12371986359357834, 0.04625418409705162, 0...</td>\n",
       "    </tr>\n",
       "    <tr>\n",
       "      <th>3</th>\n",
       "      <td>[]</td>\n",
       "      <td>[[-0.1541275531053543, 0.006262762472033501, -...</td>\n",
       "    </tr>\n",
       "    <tr>\n",
       "      <th>4</th>\n",
       "      <td>[[-0.12201421707868576, 0.04421868547797203, 0...</td>\n",
       "      <td>[[-0.1293794959783554, 0.04016623646020889, 0....</td>\n",
       "    </tr>\n",
       "  </tbody>\n",
       "</table>\n",
       "</div>"
      ],
      "text/plain": [
       "                                             mothers  \\\n",
       "0  [[-0.0634399950504303, 0.10973139107227325, 0....   \n",
       "1  [[-0.15506553649902344, 0.093840092420578, 0.1...   \n",
       "2  [[-0.14343547821044922, 0.1219245195388794, 0....   \n",
       "3                                                 []   \n",
       "4  [[-0.12201421707868576, 0.04421868547797203, 0...   \n",
       "\n",
       "                                           daughters  \n",
       "0  [[-0.1728745400905609, 0.07101988792419434, 0....  \n",
       "1  [[-0.1468706727027893, 0.10332313179969788, 0....  \n",
       "2  [[-0.12371986359357834, 0.04625418409705162, 0...  \n",
       "3  [[-0.1541275531053543, 0.006262762472033501, -...  \n",
       "4  [[-0.1293794959783554, 0.04016623646020889, 0....  "
      ]
     },
     "execution_count": 46,
     "metadata": {},
     "output_type": "execute_result"
    }
   ],
   "source": [
    "data = pd.DataFrame({'mothers': mothers,\n",
    "                     'daughters': daughters})\n",
    "data.head()"
   ]
  },
  {
   "cell_type": "code",
   "execution_count": 47,
   "metadata": {},
   "outputs": [],
   "source": [
    "for i in range(0, len(data)):\n",
    "    if data['mothers'][i] == [] or data['daughters'][i] == []:\n",
    "        data = data.drop(i)\n",
    "\n",
    "data = data.reset_index(drop=True)"
   ]
  },
  {
   "cell_type": "code",
   "execution_count": 48,
   "metadata": {},
   "outputs": [
    {
     "data": {
      "text/plain": [
       "112"
      ]
     },
     "execution_count": 48,
     "metadata": {},
     "output_type": "execute_result"
    }
   ],
   "source": [
    "len(data)"
   ]
  },
  {
   "cell_type": "code",
   "execution_count": 49,
   "metadata": {},
   "outputs": [
    {
     "data": {
      "text/html": [
       "<div>\n",
       "<style scoped>\n",
       "    .dataframe tbody tr th:only-of-type {\n",
       "        vertical-align: middle;\n",
       "    }\n",
       "\n",
       "    .dataframe tbody tr th {\n",
       "        vertical-align: top;\n",
       "    }\n",
       "\n",
       "    .dataframe thead th {\n",
       "        text-align: right;\n",
       "    }\n",
       "</style>\n",
       "<table border=\"1\" class=\"dataframe\">\n",
       "  <thead>\n",
       "    <tr style=\"text-align: right;\">\n",
       "      <th></th>\n",
       "      <th>mothers</th>\n",
       "      <th>daughters</th>\n",
       "    </tr>\n",
       "  </thead>\n",
       "  <tbody>\n",
       "    <tr>\n",
       "      <th>0</th>\n",
       "      <td>[[-0.0634399950504303, 0.10973139107227325, 0....</td>\n",
       "      <td>[[-0.1728745400905609, 0.07101988792419434, 0....</td>\n",
       "    </tr>\n",
       "    <tr>\n",
       "      <th>1</th>\n",
       "      <td>[[-0.15506553649902344, 0.093840092420578, 0.1...</td>\n",
       "      <td>[[-0.1468706727027893, 0.10332313179969788, 0....</td>\n",
       "    </tr>\n",
       "    <tr>\n",
       "      <th>2</th>\n",
       "      <td>[[-0.14343547821044922, 0.1219245195388794, 0....</td>\n",
       "      <td>[[-0.12371986359357834, 0.04625418409705162, 0...</td>\n",
       "    </tr>\n",
       "    <tr>\n",
       "      <th>3</th>\n",
       "      <td>[[-0.12201421707868576, 0.04421868547797203, 0...</td>\n",
       "      <td>[[-0.1293794959783554, 0.04016623646020889, 0....</td>\n",
       "    </tr>\n",
       "    <tr>\n",
       "      <th>4</th>\n",
       "      <td>[[-0.15837973356246948, 0.1014467105269432, 0....</td>\n",
       "      <td>[[-0.14213433861732483, 0.03305382281541824, 0...</td>\n",
       "    </tr>\n",
       "  </tbody>\n",
       "</table>\n",
       "</div>"
      ],
      "text/plain": [
       "                                             mothers  \\\n",
       "0  [[-0.0634399950504303, 0.10973139107227325, 0....   \n",
       "1  [[-0.15506553649902344, 0.093840092420578, 0.1...   \n",
       "2  [[-0.14343547821044922, 0.1219245195388794, 0....   \n",
       "3  [[-0.12201421707868576, 0.04421868547797203, 0...   \n",
       "4  [[-0.15837973356246948, 0.1014467105269432, 0....   \n",
       "\n",
       "                                           daughters  \n",
       "0  [[-0.1728745400905609, 0.07101988792419434, 0....  \n",
       "1  [[-0.1468706727027893, 0.10332313179969788, 0....  \n",
       "2  [[-0.12371986359357834, 0.04625418409705162, 0...  \n",
       "3  [[-0.1293794959783554, 0.04016623646020889, 0....  \n",
       "4  [[-0.14213433861732483, 0.03305382281541824, 0...  "
      ]
     },
     "execution_count": 49,
     "metadata": {},
     "output_type": "execute_result"
    }
   ],
   "source": [
    "data.head()"
   ]
  },
  {
   "cell_type": "code",
   "execution_count": 50,
   "metadata": {},
   "outputs": [],
   "source": [
    "for i in range(0, len(data)):\n",
    "    data['mothers'][i] = data['mothers'][i][0]\n",
    "    data['daughters'][i] = data['daughters'][i][0]"
   ]
  },
  {
   "cell_type": "code",
   "execution_count": 51,
   "metadata": {},
   "outputs": [
    {
     "data": {
      "text/html": [
       "<div>\n",
       "<style scoped>\n",
       "    .dataframe tbody tr th:only-of-type {\n",
       "        vertical-align: middle;\n",
       "    }\n",
       "\n",
       "    .dataframe tbody tr th {\n",
       "        vertical-align: top;\n",
       "    }\n",
       "\n",
       "    .dataframe thead th {\n",
       "        text-align: right;\n",
       "    }\n",
       "</style>\n",
       "<table border=\"1\" class=\"dataframe\">\n",
       "  <thead>\n",
       "    <tr style=\"text-align: right;\">\n",
       "      <th></th>\n",
       "      <th>mothers</th>\n",
       "      <th>daughters</th>\n",
       "    </tr>\n",
       "  </thead>\n",
       "  <tbody>\n",
       "    <tr>\n",
       "      <th>0</th>\n",
       "      <td>[-0.0634399950504303, 0.10973139107227325, 0.0...</td>\n",
       "      <td>[-0.1728745400905609, 0.07101988792419434, 0.0...</td>\n",
       "    </tr>\n",
       "    <tr>\n",
       "      <th>1</th>\n",
       "      <td>[-0.15506553649902344, 0.093840092420578, 0.10...</td>\n",
       "      <td>[-0.1468706727027893, 0.10332313179969788, 0.1...</td>\n",
       "    </tr>\n",
       "    <tr>\n",
       "      <th>2</th>\n",
       "      <td>[-0.14343547821044922, 0.1219245195388794, 0.0...</td>\n",
       "      <td>[-0.12371986359357834, 0.04625418409705162, 0....</td>\n",
       "    </tr>\n",
       "    <tr>\n",
       "      <th>3</th>\n",
       "      <td>[-0.12201421707868576, 0.04421868547797203, 0....</td>\n",
       "      <td>[-0.1293794959783554, 0.04016623646020889, 0.0...</td>\n",
       "    </tr>\n",
       "    <tr>\n",
       "      <th>4</th>\n",
       "      <td>[-0.15837973356246948, 0.1014467105269432, 0.0...</td>\n",
       "      <td>[-0.14213433861732483, 0.03305382281541824, 0....</td>\n",
       "    </tr>\n",
       "  </tbody>\n",
       "</table>\n",
       "</div>"
      ],
      "text/plain": [
       "                                             mothers  \\\n",
       "0  [-0.0634399950504303, 0.10973139107227325, 0.0...   \n",
       "1  [-0.15506553649902344, 0.093840092420578, 0.10...   \n",
       "2  [-0.14343547821044922, 0.1219245195388794, 0.0...   \n",
       "3  [-0.12201421707868576, 0.04421868547797203, 0....   \n",
       "4  [-0.15837973356246948, 0.1014467105269432, 0.0...   \n",
       "\n",
       "                                           daughters  \n",
       "0  [-0.1728745400905609, 0.07101988792419434, 0.0...  \n",
       "1  [-0.1468706727027893, 0.10332313179969788, 0.1...  \n",
       "2  [-0.12371986359357834, 0.04625418409705162, 0....  \n",
       "3  [-0.1293794959783554, 0.04016623646020889, 0.0...  \n",
       "4  [-0.14213433861732483, 0.03305382281541824, 0....  "
      ]
     },
     "execution_count": 51,
     "metadata": {},
     "output_type": "execute_result"
    }
   ],
   "source": [
    "data.head()"
   ]
  },
  {
   "cell_type": "code",
   "execution_count": 63,
   "metadata": {},
   "outputs": [
    {
     "name": "stderr",
     "output_type": "stream",
     "text": [
      "/anaconda3/lib/python3.7/site-packages/ipykernel_launcher.py:3: SettingWithCopyWarning: \n",
      "A value is trying to be set on a copy of a slice from a DataFrame\n",
      "\n",
      "See the caveats in the documentation: http://pandas.pydata.org/pandas-docs/stable/indexing.html#indexing-view-versus-copy\n",
      "  This is separate from the ipykernel package so we can avoid doing imports until\n"
     ]
    },
    {
     "data": {
      "text/html": [
       "<div>\n",
       "<style scoped>\n",
       "    .dataframe tbody tr th:only-of-type {\n",
       "        vertical-align: middle;\n",
       "    }\n",
       "\n",
       "    .dataframe tbody tr th {\n",
       "        vertical-align: top;\n",
       "    }\n",
       "\n",
       "    .dataframe thead th {\n",
       "        text-align: right;\n",
       "    }\n",
       "</style>\n",
       "<table border=\"1\" class=\"dataframe\">\n",
       "  <thead>\n",
       "    <tr style=\"text-align: right;\">\n",
       "      <th></th>\n",
       "      <th>mothers</th>\n",
       "      <th>daughters</th>\n",
       "      <th>score_parent</th>\n",
       "    </tr>\n",
       "  </thead>\n",
       "  <tbody>\n",
       "    <tr>\n",
       "      <th>0</th>\n",
       "      <td>[-0.0634399950504303, 0.10973139107227325, 0.0...</td>\n",
       "      <td>[-0.1728745400905609, 0.07101988792419434, 0.0...</td>\n",
       "      <td>0.764627</td>\n",
       "    </tr>\n",
       "    <tr>\n",
       "      <th>1</th>\n",
       "      <td>[-0.15506553649902344, 0.093840092420578, 0.10...</td>\n",
       "      <td>[-0.1468706727027893, 0.10332313179969788, 0.1...</td>\n",
       "      <td>0.561485</td>\n",
       "    </tr>\n",
       "    <tr>\n",
       "      <th>2</th>\n",
       "      <td>[-0.14343547821044922, 0.1219245195388794, 0.0...</td>\n",
       "      <td>[-0.12371986359357834, 0.04625418409705162, 0....</td>\n",
       "      <td>0.822328</td>\n",
       "    </tr>\n",
       "    <tr>\n",
       "      <th>3</th>\n",
       "      <td>[-0.12201421707868576, 0.04421868547797203, 0....</td>\n",
       "      <td>[-0.1293794959783554, 0.04016623646020889, 0.0...</td>\n",
       "      <td>0.282818</td>\n",
       "    </tr>\n",
       "    <tr>\n",
       "      <th>4</th>\n",
       "      <td>[-0.15837973356246948, 0.1014467105269432, 0.0...</td>\n",
       "      <td>[-0.14213433861732483, 0.03305382281541824, 0....</td>\n",
       "      <td>0.582465</td>\n",
       "    </tr>\n",
       "  </tbody>\n",
       "</table>\n",
       "</div>"
      ],
      "text/plain": [
       "                                             mothers  \\\n",
       "0  [-0.0634399950504303, 0.10973139107227325, 0.0...   \n",
       "1  [-0.15506553649902344, 0.093840092420578, 0.10...   \n",
       "2  [-0.14343547821044922, 0.1219245195388794, 0.0...   \n",
       "3  [-0.12201421707868576, 0.04421868547797203, 0....   \n",
       "4  [-0.15837973356246948, 0.1014467105269432, 0.0...   \n",
       "\n",
       "                                           daughters  score_parent  \n",
       "0  [-0.1728745400905609, 0.07101988792419434, 0.0...      0.764627  \n",
       "1  [-0.1468706727027893, 0.10332313179969788, 0.1...      0.561485  \n",
       "2  [-0.12371986359357834, 0.04625418409705162, 0....      0.822328  \n",
       "3  [-0.1293794959783554, 0.04016623646020889, 0.0...      0.282818  \n",
       "4  [-0.14213433861732483, 0.03305382281541824, 0....      0.582465  "
      ]
     },
     "execution_count": 63,
     "metadata": {},
     "output_type": "execute_result"
    }
   ],
   "source": [
    "data['score_parent'] = 0.0\n",
    "for i in range(0, len(data)):\n",
    "    data['score_parent'][i] = face_recognition.face_distance([data['mothers'][i]], data['daughters'][i])\n",
    "data.head()"
   ]
  },
  {
   "cell_type": "code",
   "execution_count": 64,
   "metadata": {
    "scrolled": true
   },
   "outputs": [
    {
     "data": {
      "text/html": [
       "<div>\n",
       "<style scoped>\n",
       "    .dataframe tbody tr th:only-of-type {\n",
       "        vertical-align: middle;\n",
       "    }\n",
       "\n",
       "    .dataframe tbody tr th {\n",
       "        vertical-align: top;\n",
       "    }\n",
       "\n",
       "    .dataframe thead th {\n",
       "        text-align: right;\n",
       "    }\n",
       "</style>\n",
       "<table border=\"1\" class=\"dataframe\">\n",
       "  <thead>\n",
       "    <tr style=\"text-align: right;\">\n",
       "      <th></th>\n",
       "      <th>score_parent</th>\n",
       "    </tr>\n",
       "  </thead>\n",
       "  <tbody>\n",
       "    <tr>\n",
       "      <th>count</th>\n",
       "      <td>112.000000</td>\n",
       "    </tr>\n",
       "    <tr>\n",
       "      <th>mean</th>\n",
       "      <td>0.610472</td>\n",
       "    </tr>\n",
       "    <tr>\n",
       "      <th>std</th>\n",
       "      <td>0.113306</td>\n",
       "    </tr>\n",
       "    <tr>\n",
       "      <th>min</th>\n",
       "      <td>0.282818</td>\n",
       "    </tr>\n",
       "    <tr>\n",
       "      <th>25%</th>\n",
       "      <td>0.531516</td>\n",
       "    </tr>\n",
       "    <tr>\n",
       "      <th>50%</th>\n",
       "      <td>0.628269</td>\n",
       "    </tr>\n",
       "    <tr>\n",
       "      <th>75%</th>\n",
       "      <td>0.699454</td>\n",
       "    </tr>\n",
       "    <tr>\n",
       "      <th>max</th>\n",
       "      <td>0.846307</td>\n",
       "    </tr>\n",
       "  </tbody>\n",
       "</table>\n",
       "</div>"
      ],
      "text/plain": [
       "       score_parent\n",
       "count    112.000000\n",
       "mean       0.610472\n",
       "std        0.113306\n",
       "min        0.282818\n",
       "25%        0.531516\n",
       "50%        0.628269\n",
       "75%        0.699454\n",
       "max        0.846307"
      ]
     },
     "execution_count": 64,
     "metadata": {},
     "output_type": "execute_result"
    }
   ],
   "source": [
    "data.describe()"
   ]
  },
  {
   "cell_type": "code",
   "execution_count": 69,
   "metadata": {},
   "outputs": [
    {
     "name": "stderr",
     "output_type": "stream",
     "text": [
      "/anaconda3/lib/python3.7/site-packages/ipykernel_launcher.py:4: SettingWithCopyWarning: \n",
      "A value is trying to be set on a copy of a slice from a DataFrame\n",
      "\n",
      "See the caveats in the documentation: http://pandas.pydata.org/pandas-docs/stable/indexing.html#indexing-view-versus-copy\n",
      "  after removing the cwd from sys.path.\n"
     ]
    },
    {
     "data": {
      "text/html": [
       "<div>\n",
       "<style scoped>\n",
       "    .dataframe tbody tr th:only-of-type {\n",
       "        vertical-align: middle;\n",
       "    }\n",
       "\n",
       "    .dataframe tbody tr th {\n",
       "        vertical-align: top;\n",
       "    }\n",
       "\n",
       "    .dataframe thead th {\n",
       "        text-align: right;\n",
       "    }\n",
       "</style>\n",
       "<table border=\"1\" class=\"dataframe\">\n",
       "  <thead>\n",
       "    <tr style=\"text-align: right;\">\n",
       "      <th></th>\n",
       "      <th>mothers</th>\n",
       "      <th>daughters</th>\n",
       "      <th>score_parent</th>\n",
       "      <th>score_random</th>\n",
       "    </tr>\n",
       "  </thead>\n",
       "  <tbody>\n",
       "    <tr>\n",
       "      <th>0</th>\n",
       "      <td>[-0.0634399950504303, 0.10973139107227325, 0.0...</td>\n",
       "      <td>[-0.1728745400905609, 0.07101988792419434, 0.0...</td>\n",
       "      <td>0.764627</td>\n",
       "      <td>0.760067</td>\n",
       "    </tr>\n",
       "    <tr>\n",
       "      <th>1</th>\n",
       "      <td>[-0.15506553649902344, 0.093840092420578, 0.10...</td>\n",
       "      <td>[-0.1468706727027893, 0.10332313179969788, 0.1...</td>\n",
       "      <td>0.561485</td>\n",
       "      <td>0.867522</td>\n",
       "    </tr>\n",
       "    <tr>\n",
       "      <th>2</th>\n",
       "      <td>[-0.14343547821044922, 0.1219245195388794, 0.0...</td>\n",
       "      <td>[-0.12371986359357834, 0.04625418409705162, 0....</td>\n",
       "      <td>0.822328</td>\n",
       "      <td>0.522633</td>\n",
       "    </tr>\n",
       "    <tr>\n",
       "      <th>3</th>\n",
       "      <td>[-0.12201421707868576, 0.04421868547797203, 0....</td>\n",
       "      <td>[-0.1293794959783554, 0.04016623646020889, 0.0...</td>\n",
       "      <td>0.282818</td>\n",
       "      <td>0.557741</td>\n",
       "    </tr>\n",
       "    <tr>\n",
       "      <th>4</th>\n",
       "      <td>[-0.15837973356246948, 0.1014467105269432, 0.0...</td>\n",
       "      <td>[-0.14213433861732483, 0.03305382281541824, 0....</td>\n",
       "      <td>0.582465</td>\n",
       "      <td>0.614641</td>\n",
       "    </tr>\n",
       "  </tbody>\n",
       "</table>\n",
       "</div>"
      ],
      "text/plain": [
       "                                             mothers  \\\n",
       "0  [-0.0634399950504303, 0.10973139107227325, 0.0...   \n",
       "1  [-0.15506553649902344, 0.093840092420578, 0.10...   \n",
       "2  [-0.14343547821044922, 0.1219245195388794, 0.0...   \n",
       "3  [-0.12201421707868576, 0.04421868547797203, 0....   \n",
       "4  [-0.15837973356246948, 0.1014467105269432, 0.0...   \n",
       "\n",
       "                                           daughters  score_parent  \\\n",
       "0  [-0.1728745400905609, 0.07101988792419434, 0.0...      0.764627   \n",
       "1  [-0.1468706727027893, 0.10332313179969788, 0.1...      0.561485   \n",
       "2  [-0.12371986359357834, 0.04625418409705162, 0....      0.822328   \n",
       "3  [-0.1293794959783554, 0.04016623646020889, 0.0...      0.282818   \n",
       "4  [-0.14213433861732483, 0.03305382281541824, 0....      0.582465   \n",
       "\n",
       "   score_random  \n",
       "0      0.760067  \n",
       "1      0.867522  \n",
       "2      0.522633  \n",
       "3      0.557741  \n",
       "4      0.614641  "
      ]
     },
     "execution_count": 69,
     "metadata": {},
     "output_type": "execute_result"
    }
   ],
   "source": [
    "data['score_random'] = 0.0\n",
    "\n",
    "for i in range(0, len(data)):\n",
    "    rand = random.randint(0, len(data)-1)\n",
    "    data['score_random'][i] = face_recognition.face_distance([data['mothers'][rand]], data['daughters'][i])\n",
    "    \n",
    "data.head()"
   ]
  },
  {
   "cell_type": "code",
   "execution_count": 70,
   "metadata": {},
   "outputs": [
    {
     "data": {
      "text/html": [
       "<div>\n",
       "<style scoped>\n",
       "    .dataframe tbody tr th:only-of-type {\n",
       "        vertical-align: middle;\n",
       "    }\n",
       "\n",
       "    .dataframe tbody tr th {\n",
       "        vertical-align: top;\n",
       "    }\n",
       "\n",
       "    .dataframe thead th {\n",
       "        text-align: right;\n",
       "    }\n",
       "</style>\n",
       "<table border=\"1\" class=\"dataframe\">\n",
       "  <thead>\n",
       "    <tr style=\"text-align: right;\">\n",
       "      <th></th>\n",
       "      <th>score_parent</th>\n",
       "      <th>score_random</th>\n",
       "    </tr>\n",
       "  </thead>\n",
       "  <tbody>\n",
       "    <tr>\n",
       "      <th>count</th>\n",
       "      <td>112.000000</td>\n",
       "      <td>112.000000</td>\n",
       "    </tr>\n",
       "    <tr>\n",
       "      <th>mean</th>\n",
       "      <td>0.610472</td>\n",
       "      <td>0.752727</td>\n",
       "    </tr>\n",
       "    <tr>\n",
       "      <th>std</th>\n",
       "      <td>0.113306</td>\n",
       "      <td>0.117977</td>\n",
       "    </tr>\n",
       "    <tr>\n",
       "      <th>min</th>\n",
       "      <td>0.282818</td>\n",
       "      <td>0.423206</td>\n",
       "    </tr>\n",
       "    <tr>\n",
       "      <th>25%</th>\n",
       "      <td>0.531516</td>\n",
       "      <td>0.689572</td>\n",
       "    </tr>\n",
       "    <tr>\n",
       "      <th>50%</th>\n",
       "      <td>0.628269</td>\n",
       "      <td>0.768847</td>\n",
       "    </tr>\n",
       "    <tr>\n",
       "      <th>75%</th>\n",
       "      <td>0.699454</td>\n",
       "      <td>0.836841</td>\n",
       "    </tr>\n",
       "    <tr>\n",
       "      <th>max</th>\n",
       "      <td>0.846307</td>\n",
       "      <td>0.968774</td>\n",
       "    </tr>\n",
       "  </tbody>\n",
       "</table>\n",
       "</div>"
      ],
      "text/plain": [
       "       score_parent  score_random\n",
       "count    112.000000    112.000000\n",
       "mean       0.610472      0.752727\n",
       "std        0.113306      0.117977\n",
       "min        0.282818      0.423206\n",
       "25%        0.531516      0.689572\n",
       "50%        0.628269      0.768847\n",
       "75%        0.699454      0.836841\n",
       "max        0.846307      0.968774"
      ]
     },
     "execution_count": 70,
     "metadata": {},
     "output_type": "execute_result"
    }
   ],
   "source": [
    "data.describe()"
   ]
  },
  {
   "cell_type": "code",
   "execution_count": 80,
   "metadata": {},
   "outputs": [
    {
     "name": "stderr",
     "output_type": "stream",
     "text": [
      "/anaconda3/lib/python3.7/site-packages/ipykernel_launcher.py:5: SettingWithCopyWarning: \n",
      "A value is trying to be set on a copy of a slice from a DataFrame\n",
      "\n",
      "See the caveats in the documentation: http://pandas.pydata.org/pandas-docs/stable/indexing.html#indexing-view-versus-copy\n",
      "  \"\"\"\n"
     ]
    },
    {
     "data": {
      "text/html": [
       "<div>\n",
       "<style scoped>\n",
       "    .dataframe tbody tr th:only-of-type {\n",
       "        vertical-align: middle;\n",
       "    }\n",
       "\n",
       "    .dataframe tbody tr th {\n",
       "        vertical-align: top;\n",
       "    }\n",
       "\n",
       "    .dataframe thead th {\n",
       "        text-align: right;\n",
       "    }\n",
       "</style>\n",
       "<table border=\"1\" class=\"dataframe\">\n",
       "  <thead>\n",
       "    <tr style=\"text-align: right;\">\n",
       "      <th></th>\n",
       "      <th>mothers</th>\n",
       "      <th>daughters</th>\n",
       "      <th>score_parent</th>\n",
       "      <th>score_random</th>\n",
       "      <th>min_score_all</th>\n",
       "    </tr>\n",
       "  </thead>\n",
       "  <tbody>\n",
       "    <tr>\n",
       "      <th>0</th>\n",
       "      <td>[-0.0634399950504303, 0.10973139107227325, 0.0...</td>\n",
       "      <td>[-0.1728745400905609, 0.07101988792419434, 0.0...</td>\n",
       "      <td>0.764627</td>\n",
       "      <td>0.760067</td>\n",
       "      <td>0.592219</td>\n",
       "    </tr>\n",
       "    <tr>\n",
       "      <th>1</th>\n",
       "      <td>[-0.15506553649902344, 0.093840092420578, 0.10...</td>\n",
       "      <td>[-0.1468706727027893, 0.10332313179969788, 0.1...</td>\n",
       "      <td>0.561485</td>\n",
       "      <td>0.867522</td>\n",
       "      <td>0.486458</td>\n",
       "    </tr>\n",
       "    <tr>\n",
       "      <th>2</th>\n",
       "      <td>[-0.14343547821044922, 0.1219245195388794, 0.0...</td>\n",
       "      <td>[-0.12371986359357834, 0.04625418409705162, 0....</td>\n",
       "      <td>0.822328</td>\n",
       "      <td>0.522633</td>\n",
       "      <td>0.432301</td>\n",
       "    </tr>\n",
       "    <tr>\n",
       "      <th>3</th>\n",
       "      <td>[-0.12201421707868576, 0.04421868547797203, 0....</td>\n",
       "      <td>[-0.1293794959783554, 0.04016623646020889, 0.0...</td>\n",
       "      <td>0.282818</td>\n",
       "      <td>0.557741</td>\n",
       "      <td>0.282818</td>\n",
       "    </tr>\n",
       "    <tr>\n",
       "      <th>4</th>\n",
       "      <td>[-0.15837973356246948, 0.1014467105269432, 0.0...</td>\n",
       "      <td>[-0.14213433861732483, 0.03305382281541824, 0....</td>\n",
       "      <td>0.582465</td>\n",
       "      <td>0.614641</td>\n",
       "      <td>0.443620</td>\n",
       "    </tr>\n",
       "  </tbody>\n",
       "</table>\n",
       "</div>"
      ],
      "text/plain": [
       "                                             mothers  \\\n",
       "0  [-0.0634399950504303, 0.10973139107227325, 0.0...   \n",
       "1  [-0.15506553649902344, 0.093840092420578, 0.10...   \n",
       "2  [-0.14343547821044922, 0.1219245195388794, 0.0...   \n",
       "3  [-0.12201421707868576, 0.04421868547797203, 0....   \n",
       "4  [-0.15837973356246948, 0.1014467105269432, 0.0...   \n",
       "\n",
       "                                           daughters  score_parent  \\\n",
       "0  [-0.1728745400905609, 0.07101988792419434, 0.0...      0.764627   \n",
       "1  [-0.1468706727027893, 0.10332313179969788, 0.1...      0.561485   \n",
       "2  [-0.12371986359357834, 0.04625418409705162, 0....      0.822328   \n",
       "3  [-0.1293794959783554, 0.04016623646020889, 0.0...      0.282818   \n",
       "4  [-0.14213433861732483, 0.03305382281541824, 0....      0.582465   \n",
       "\n",
       "   score_random  min_score_all  \n",
       "0      0.760067       0.592219  \n",
       "1      0.867522       0.486458  \n",
       "2      0.522633       0.432301  \n",
       "3      0.557741       0.282818  \n",
       "4      0.614641       0.443620  "
      ]
     },
     "execution_count": 80,
     "metadata": {},
     "output_type": "execute_result"
    }
   ],
   "source": [
    "data['min_score_all'] = 0.0\n",
    "\n",
    "for i in range(0, len(data)):\n",
    "    all_scores = face_recognition.face_distance(data['mothers'].tolist(), data['daughters'][i])\n",
    "    data['min_score_all'][i] = min(all_scores)\n",
    "\n",
    "data.head()"
   ]
  },
  {
   "cell_type": "code",
   "execution_count": 103,
   "metadata": {},
   "outputs": [
    {
     "name": "stdout",
     "output_type": "stream",
     "text": [
      "0.15178571428571427\n",
      "Score: 15.18%\n"
     ]
    }
   ],
   "source": [
    "estimated_accuracy = len(data[data['score_parent'] == data['min_score_all']]) / len(data)\n",
    "print(\"Score: {0:.2%}\".format(estimated_accuracy))"
   ]
  },
  {
   "cell_type": "code",
   "execution_count": null,
   "metadata": {},
   "outputs": [],
   "source": []
  }
 ],
 "metadata": {
  "kernelspec": {
   "display_name": "Python 3",
   "language": "python",
   "name": "python3"
  },
  "language_info": {
   "codemirror_mode": {
    "name": "ipython",
    "version": 3
   },
   "file_extension": ".py",
   "mimetype": "text/x-python",
   "name": "python",
   "nbconvert_exporter": "python",
   "pygments_lexer": "ipython3",
   "version": "3.7.1"
  }
 },
 "nbformat": 4,
 "nbformat_minor": 2
}
